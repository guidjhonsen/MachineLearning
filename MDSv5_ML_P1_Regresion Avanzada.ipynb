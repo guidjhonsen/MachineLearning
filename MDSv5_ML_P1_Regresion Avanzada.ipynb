{
  "cells": [
    {
      "cell_type": "markdown",
      "id": "d9574140-6c03-44cb-8447-afe8004b026e",
      "metadata": {
        "id": "d9574140-6c03-44cb-8447-afe8004b026e"
      },
      "source": [
        "# <center> Prediccion de Precios en Bienes Raices - Mercado Australiano - Regresion Avanzada"
      ]
    },
    {
      "cell_type": "markdown",
      "id": "f3928501",
      "metadata": {
        "id": "f3928501"
      },
      "source": [
        "# Tabla de Contenido\n",
        "\n",
        "1. [Introduccion](#Introduccion)\n",
        "2. [Configuracion e Instalacion](#Configuracion-e-Instalacion)\n",
        "3. [Entendimiento de los Datos](#Entendimiento-de-los-Datos)  \n",
        "4. [Manipulacion y Limpieza de Datos](#Manipulacion-y-Limpieza-de-Datos)\n",
        "    1. [Dropping Data](#Dropping-Data)\n",
        "    2. [Derived Data](#Derived-Data)\n",
        "5. [Analisis de Datos](#Analisis-de-Datos)\n",
        "    1. [Analisis-Univariable](#Analisis-Univariable)\n",
        "        1. [Plot Numeric Data](#Plot-Numeric-Data)\n",
        "        2. [Plot Categorical Data](#Plot-Categorical-Data)\n",
        "    2. [Analisis-Bivariable](#Analisis-Bivariable)\n",
        "6. [Preparacion de Datos y Modelado](#Preparacion-de-Datos-y-Modelado)\n",
        "    1. [Splitting data into Train Test](#Splitting-data-into-Train-Test)\n",
        "7. [Construccion-del-Modelo](#Model-Building)\n",
        "    1. [Ridge Regression](#Ridge-Regression)\n",
        "    2. [Lasso Regression](#Lasso-Regression)\n",
        "    3. [ElasticNet Regression](#ElasticNet-Regression)\n",
        "8. [Conclusions y Observaciones](#Conclusiones-y-Observaciones)"
      ]
    },
    {
      "cell_type": "markdown",
      "id": "680ce64d-389b-4ab0-9ceb-5e1825326317",
      "metadata": {
        "id": "680ce64d-389b-4ab0-9ceb-5e1825326317"
      },
      "source": [
        "# Introduccion\n",
        "\n",
        "### Integrates de Grupo:\n",
        "* INTEGRANTE_1 (email_1)\n",
        "* INTEGRANTE_2 (email_2)\n",
        "...\n",
        "\n",
        "## Entendimiento del Negocio"
      ]
    },
    {
      "cell_type": "markdown",
      "id": "e9f14557-da2d-4f40-8435-36259572d265",
      "metadata": {
        "id": "e9f14557-da2d-4f40-8435-36259572d265"
      },
      "source": [
        "Una empresa de vivienda con sede en EE. UU. llamada Surprise Housing ha decidido ingresar al mercado australiano. La empresa utiliza el análisis de datos para comprar casas a un precio inferior a sus valores reales y venderlas a un precio más alto. Con el mismo propósito, la empresa ha recopilado un conjunto de datos de la venta de casas en Australia. Los datos se proporcionan en el archivo CSV a continuación.\n",
        "\n",
        "La compañía está buscando posibles propiedades para comprar e ingresar al mercado. Debe construir un modelo de regresión utilizando la regularización para predecir el valor real de las posibles propiedades y decidir si invertir en ellas o no.\n",
        "\n",
        "La empresa quiere saber:\n",
        "\n",
        "* Qué variables son significativas para predecir el precio de una casa, y\n",
        "* Qué tan bien esas variables describen el precio de una casa.\n",
        "\n",
        "Además, determine el valor óptimo de lambda para la regresión de Ridge y Lasso.\n",
        "\n",
        "### Objetivo del Negocio:\n",
        "\n",
        "Debe modelar el precio de las casas con las variables independientes disponibles. Luego, la gerencia utilizará este modelo para comprender cómo varían exactamente los precios con las variables. En consecuencia, pueden manipular la estrategia de la empresa y concentrarse en áreas que generarán altos rendimientos. Además, el modelo será una buena manera para que la gerencia entienda la dinámica de precios de un nuevo mercado."
      ]
    },
    {
      "cell_type": "markdown",
      "id": "954c88e6-0dc4-40a4-89d0-1dab6f510980",
      "metadata": {
        "id": "954c88e6-0dc4-40a4-89d0-1dab6f510980"
      },
      "source": [
        "# Configuracion e Instalacion"
      ]
    },
    {
      "cell_type": "code",
      "execution_count": null,
      "id": "148adb49-0538-45f8-9de6-bb7f2a4bbd54",
      "metadata": {
        "id": "148adb49-0538-45f8-9de6-bb7f2a4bbd54"
      },
      "outputs": [],
      "source": [
        "# Importar Librerias Requeridas\n",
        "import numpy as np\n",
        "import pandas as pd\n",
        "import matplotlib.pyplot as plt\n",
        "import pylab\n",
        "import seaborn as sns\n",
        "import sys\n",
        "\n",
        "# Importar Librerias de Machine Learning\n",
        "import sklearn\n",
        "from sklearn.feature_selection import RFE\n",
        "from sklearn.linear_model import LinearRegression, Ridge, Lasso\n",
        "from sklearn.metrics import r2_score, mean_squared_error\n",
        "from sklearn.model_selection import train_test_split, GridSearchCV, KFold\n",
        "from sklearn.preprocessing import StandardScaler, MinMaxScaler, LabelEncoder\n",
        "\n",
        "# Importar Librerias de Estadistica\n",
        "import statsmodels.api as stats\n",
        "from statsmodels.api import OLS\n",
        "from statsmodels.stats.outliers_influence import variance_inflation_factor\n",
        "from statsmodels.stats.stattools import durbin_watson\n",
        "\n",
        "# Ignorar Alertas (Warnings)\n",
        "import warnings\n",
        "warnings.filterwarnings('ignore')\n",
        "\n",
        "# Definir precision del FLOAT a dos digitos.\n",
        "pd.options.display.float_format = '{:.2f}'.format"
      ]
    },
    {
      "cell_type": "code",
      "execution_count": null,
      "id": "2cac811e-54d0-4d6c-a2fb-37b3b98bd0b5",
      "metadata": {
        "id": "2cac811e-54d0-4d6c-a2fb-37b3b98bd0b5"
      },
      "outputs": [],
      "source": [
        "# Leer el DATASET CSV con en un Dataframe.\n",
        "\n",
        "# Direccion relativa del Dataset\n",
        "DATA_FILE_PATH = '_data/dataset.csv'\n",
        "\n",
        "raw_data = pd.read_csv(DATA_FILE_PATH)"
      ]
    },
    {
      "cell_type": "markdown",
      "id": "5444c31f",
      "metadata": {
        "id": "5444c31f"
      },
      "source": [
        "# Entendimiento de los Datos"
      ]
    },
    {
      "cell_type": "markdown",
      "source": [
        "#prueba"
      ],
      "metadata": {
        "id": "0CV4PTXFGCUQ"
      },
      "id": "0CV4PTXFGCUQ"
    },
    {
      "cell_type": "code",
      "execution_count": null,
      "id": "5b511cc6",
      "metadata": {
        "id": "5b511cc6"
      },
      "outputs": [],
      "source": []
    }
  ],
  "metadata": {
    "kernelspec": {
      "display_name": "Python 3 (ipykernel)",
      "language": "python",
      "name": "python3"
    },
    "language_info": {
      "codemirror_mode": {
        "name": "ipython",
        "version": 3
      },
      "file_extension": ".py",
      "mimetype": "text/x-python",
      "name": "python",
      "nbconvert_exporter": "python",
      "pygments_lexer": "ipython3",
      "version": "3.9.13"
    },
    "toc-autonumbering": false,
    "toc-showmarkdowntxt": false,
    "vscode": {
      "interpreter": {
        "hash": "8f57aa0131da59c87c847768c3c19190ea7cd0ad2e0a6caff3c7595b1c09ba5d"
      }
    },
    "colab": {
      "provenance": []
    }
  },
  "nbformat": 4,
  "nbformat_minor": 5
}